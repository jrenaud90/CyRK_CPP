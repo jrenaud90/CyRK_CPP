{
 "cells": [
  {
   "cell_type": "code",
   "execution_count": 3,
   "id": "abb0c1eb",
   "metadata": {},
   "outputs": [],
   "source": [
    "import numpy as np\n",
    "\n",
    "order = 5\n",
    "error_estimator_order = 4\n",
    "n_stages = 6\n",
    "C = np.array([0, 1/5, 3/10, 4/5, 8/9, 1])\n",
    "A = np.array([\n",
    "    [0, 0, 0, 0, 0],\n",
    "    [1/5, 0, 0, 0, 0],\n",
    "    [3/40, 9/40, 0, 0, 0],\n",
    "    [44/45, -56/15, 32/9, 0, 0],\n",
    "    [19372/6561, -25360/2187, 64448/6561, -212/729, 0],\n",
    "    [9017/3168, -355/33, 46732/5247, 49/176, -5103/18656]\n",
    "])\n",
    "B = np.array([35/384, 0, 500/1113, 125/192, -2187/6784, 11/84])\n",
    "E = np.array([-71/57600, 0, 71/16695, -71/1920, 17253/339200, -22/525,\n",
    "              1/40])\n",
    "# Corresponds to the optimum value of c_6 from [2]_.\n",
    "P = np.array([\n",
    "    [1, -8048581381/2820520608, 8663915743/2820520608,\n",
    "     -12715105075/11282082432],\n",
    "    [0, 0, 0, 0],\n",
    "    [0, 131558114200/32700410799, -68118460800/10900136933,\n",
    "     87487479700/32700410799],\n",
    "    [0, -1754552775/470086768, 14199869525/1410260304,\n",
    "     -10690763975/1880347072],\n",
    "    [0, 127303824393/49829197408, -318862633887/49829197408,\n",
    "     701980252875 / 199316789632],\n",
    "    [0, -282668133/205662961, 2019193451/616988883, -1453857185/822651844],\n",
    "    [0, 40617522/29380423, -110615467/29380423, 69997945/29380423]])"
   ]
  },
  {
   "cell_type": "code",
   "execution_count": 13,
   "id": "43dd5c92",
   "metadata": {},
   "outputs": [
    {
     "data": {
      "text/plain": [
       "array([[ 1.        , -2.85358007,  3.07174346, -1.12701757],\n",
       "       [ 0.        ,  0.        ,  0.        ,  0.        ],\n",
       "       [ 0.        ,  4.02313338, -6.24932157,  2.67542448],\n",
       "       [ 0.        , -3.73240196, 10.06897059, -5.68552696],\n",
       "       [ 0.        ,  2.55480383, -6.39911238,  3.52193237],\n",
       "       [ 0.        , -1.37442411,  3.27265775, -1.76728126],\n",
       "       [ 0.        ,  1.38246893, -3.76493786,  2.38246893]])"
      ]
     },
     "execution_count": 13,
     "metadata": {},
     "output_type": "execute_result"
    }
   ],
   "source": [
    "P"
   ]
  },
  {
   "cell_type": "code",
   "execution_count": 40,
   "id": "0bc8f936",
   "metadata": {},
   "outputs": [
    {
     "name": "stdout",
     "output_type": "stream",
     "text": [
      "[[-0.3 -0.3]\n",
      " [-0.3 -0.3]\n",
      " [20.  -0.3]\n",
      " [-0.3 -0.3]\n",
      " [-0.3 -9.9]\n",
      " [-0.3 -0.3]\n",
      " [-0.3 -0.3]]\n",
      "[-0.3 -0.3 -0.3 -0.3 20.  -0.3 -0.3 -0.3 -0.3 -9.9 -0.3 -0.3 -0.3 -0.3]\n"
     ]
    }
   ],
   "source": [
    "K = -0.3 * np.ones((n_stages+1, 2), dtype=np.float64)\n",
    "K[2, 0] = 20.0\n",
    "K[4, 1] = -9.9\n",
    "print(K)\n",
    "print(K.flatten())"
   ]
  },
  {
   "cell_type": "code",
   "execution_count": 39,
   "id": "1babc236",
   "metadata": {},
   "outputs": [
    {
     "name": "stdout",
     "output_type": "stream",
     "text": [
      "(2, 4)\n",
      "[[  -0.3          81.6696076  -126.86122778   54.31111703]\n",
      " [  -0.3         -24.52611677   61.43147882  -33.81055073]]\n"
     ]
    }
   ],
   "source": [
    "Q = K.T.dot(P)\n",
    "\n",
    "print(Q.shape)\n",
    "print(Q)"
   ]
  }
 ],
 "metadata": {
  "kernelspec": {
   "display_name": "Python 3 (ipykernel)",
   "language": "python",
   "name": "python3"
  },
  "language_info": {
   "codemirror_mode": {
    "name": "ipython",
    "version": 3
   },
   "file_extension": ".py",
   "mimetype": "text/x-python",
   "name": "python",
   "nbconvert_exporter": "python",
   "pygments_lexer": "ipython3",
   "version": "3.11.5"
  }
 },
 "nbformat": 4,
 "nbformat_minor": 5
}
